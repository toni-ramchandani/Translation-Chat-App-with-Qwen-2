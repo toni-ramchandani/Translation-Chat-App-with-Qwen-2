!pip install accelerate gTTS gradio transformers

from transformers import AutoModelForCausalLM, AutoTokenizer
from gtts import gTTS
import torch
import gradio as gr

device = "cuda" if torch.cuda.is_available() else "cpu"

language_model_name = "Qwen/Qwen2-1.5B-Instruct"
language_model = AutoModelForCausalLM.from_pretrained(
    language_model_name,
    torch_dtype="auto",
    device_map="auto"
)
tokenizer = AutoTokenizer.from_pretrained(language_model_name)

def process_input(input_text, action):
    if action == "Translate to English":
        prompt = f"Please translate the following text into English: {input_text}"
        lang = "en"
    elif action == "Translate to Chinese":
        prompt = f"Please translate the following text into Chinese: {input_text}"
        lang = "zh-cn"
    elif action == "Translate to Japanese":
        prompt = f"Please translate the following text into Japanese: {input_text}"
        lang = "ja"
    elif action == "Translate to French":
        prompt = f"Please translate the following text into French: {input_text}"
        lang = "fr"
    elif action == "Translate to Spanish":
        prompt = f"Please translate the following text into Spanish: {input_text}"
        lang = "es"
    else:
        prompt = input_text
        lang = "en"

    messages = [
        {"role": "system", "content": "You are a helpful AI assistant."},
        {"role": "user", "content": prompt}
    ]
    text = tokenizer.apply_chat_template(
        messages,
        tokenize=False,
        add_generation_prompt=True
    )
    model_inputs = tokenizer([text], return_tensors="pt").to(device)

    generated_ids = language_model.generate(
        model_inputs.input_ids,
        max_new_tokens=512
    )
    generated_ids = [
        output_ids[len(input_ids):] for input_ids, output_ids in zip(model_inputs.input_ids, generated_ids)
    ]

    output_text = tokenizer.batch_decode(generated_ids, skip_special_tokens=True)[0]
    return output_text, lang

def text_to_speech(text, lang):
    tts = gTTS(text=text, lang=lang)
    filename = "output_audio.mp3"
    tts.save(filename)
    return filename

def handle_interaction(input_text, action):
    output_text, lang = process_input(input_text, action)
    audio_filename = text_to_speech(output_text, lang)
    return output_text, audio_filename

action_options = [
    "Translate to English",
    "Translate to Chinese",
    "Translate to Japanese",
    "Translate to French",
    "Translate to Spanish",
    "Chat"
]

iface = gr.Blocks(theme="dark")  # Using dark theme for modern look

with iface:
    gr.Markdown("## Welcome to the AI-Powered Translation and Chat App!")

    with gr.Row():
        with gr.Column(scale=1):
            gr.Image("/content/TOni ANotherpic.jpg", label="", width=100, height=100)  # Small image size
            gr.Markdown("""
            **Connect with Me:**
            - [Toni Ramchandani Linkedin](https://www.linkedin.com/in/toni-ramchandani/)
            - [Toni Ramchandani GitHub](https://github.com/toniramchandani1)
            """)  # Interactive links and profile information

    gr.Markdown("---")  # Separator line for visual clarity

    gr.Markdown("""
    ### Let's Get Started!
    Choose an action and input your text. The AI will translate or chat based on your selection.
    """)

    with gr.Row():
        with gr.Column(scale=1):
            input_text = gr.Textbox(label="Input Your Text", placeholder="Enter your text here...")
            action = gr.Dropdown(action_options, label="Select Action", interactive=True)
        with gr.Column(scale=1):
            output_text = gr.Textbox(label="Output Text", placeholder="Output will appear here...")
            output_audio = gr.Audio(label="Output Audio", interactive=True)

    gr.Button("Submit").click(fn=handle_interaction, inputs=[input_text, action], outputs=[output_text, output_audio])

    gr.Markdown("---")
    gr.Markdown("""
    ### About This App
    This application showcases the power of the Qwen-2 LLM for translations and chat interactions. With support for multiple languages and text-to-speech, it's designed to be your go-to tool for communication across language barriers.
    """)

if __name__ == "__main__":
    iface.launch(share=True)
